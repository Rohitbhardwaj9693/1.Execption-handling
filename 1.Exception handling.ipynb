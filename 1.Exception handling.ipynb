{
 "cells": [
  {
   "cell_type": "code",
   "execution_count": 2,
   "id": "9a0934e8-4fb0-4354-b2ac-4c4b562c82a4",
   "metadata": {},
   "outputs": [],
   "source": [
    "                          Name :- Rohit bhardwaj\n",
    "                          Batch :- Data science Master\n",
    "                          Assignment :- Exception handling\n",
    "\n",
    "\n",
    "\n",
    "# what is an Exception in python ? write the difference between Exception and \n",
    "# syntxe error\n",
    "\n",
    "# ANS :-\n",
    "#       an Exception is an error that happen during the exxcution of a program \n",
    "#       whenever there is an error ,python genfrate an exceptiion that cloud \n",
    "#       be handle .it basically prevent the program from getting crashed\n",
    "#      basically prevent the program from getting crashed\n",
    "\n",
    "\n",
    "#  difference between Exception and syntex error in program\n",
    "\n",
    "    # Error are the problem in a program due to which the program will stop \n",
    "    # the execution .on the other hand exception are raised when some \n",
    "    # internal events occurs which change the normal flow of the progra\n",
    "    #  two type of error occure in python\n",
    "    #     1. syntex error\n",
    "    #     2. logical error(Exception)"
   ]
  },
  {
   "cell_type": "code",
   "execution_count": null,
   "id": "25e8e7f2-d2dc-47bb-8a7f-d4c7584c0764",
   "metadata": {},
   "outputs": [],
   "source": []
  },
  {
   "cell_type": "code",
   "execution_count": 4,
   "id": "68c381ea-6ef5-4e33-ac0d-48f80afa3031",
   "metadata": {},
   "outputs": [],
   "source": [
    "# What happen when an exception is not handle ? Explain with example\n",
    "\n",
    "\n",
    "# ANS :- Asseertion Error exception can be caught and handle like any other \n",
    "#        exception using the try- except statement ,but if not handled they will\n",
    "#        terminalte the program and produce a traceback"
   ]
  },
  {
   "cell_type": "code",
   "execution_count": null,
   "id": "3438a692-796e-4811-8e2c-f29117019b3c",
   "metadata": {},
   "outputs": [],
   "source": []
  },
  {
   "cell_type": "code",
   "execution_count": 6,
   "id": "dfa6d75e-5614-48af-8f11-3842e022d4b2",
   "metadata": {},
   "outputs": [
    {
     "name": "stdout",
     "output_type": "stream",
     "text": [
      "excute except block when try block are given error\n"
     ]
    }
   ],
   "source": [
    "# which pyton statement are used to catch and handle exception ? Explain with \n",
    "# an example\n",
    "\n",
    "#  try and except block\n",
    "    \n",
    "try:\n",
    "    print(x)\n",
    "except:\n",
    "    print('excute except block when try block are given error')"
   ]
  },
  {
   "cell_type": "code",
   "execution_count": null,
   "id": "2f180af5-ece5-49f9-81a5-09ad79e8d48a",
   "metadata": {},
   "outputs": [],
   "source": []
  },
  {
   "cell_type": "code",
   "execution_count": 8,
   "id": "b19149d5-8574-47bb-bb31-b5792a64f44e",
   "metadata": {},
   "outputs": [
    {
     "name": "stdout",
     "output_type": "stream",
     "text": [
      "6\n",
      "else block execute when try block are execute without error \n"
     ]
    }
   ],
   "source": [
    "# Explain with an example\n",
    "# a. try and else\n",
    "# b. finally\n",
    "# c.raise\n",
    " \n",
    "    \n",
    "    \n",
    "try:\n",
    "    a,b = 2,4\n",
    "    c= a+b\n",
    "    print(c)\n",
    "except:\n",
    "    print('hello mini')\n",
    "else:\n",
    "    print('else block execute when try block are execute without error ')"
   ]
  },
  {
   "cell_type": "code",
   "execution_count": 1,
   "id": "da851386-4d1d-448c-a2e9-4e5c8dab9d82",
   "metadata": {},
   "outputs": [
    {
     "name": "stdout",
     "output_type": "stream",
     "text": [
      "division by zero\n",
      "finally block always execute either try block have error or not\n"
     ]
    }
   ],
   "source": [
    "try:\n",
    "    a,b = 5,0\n",
    "    c = a/b\n",
    "    print(c)\n",
    "except ZeroDivisionError as e:\n",
    "    print(e)\n",
    "finally:\n",
    "    print('finally block always execute either try block have error or not')"
   ]
  },
  {
   "cell_type": "code",
   "execution_count": null,
   "id": "e7f18f7f-ca99-4477-b723-a8a785c28eb2",
   "metadata": {},
   "outputs": [],
   "source": []
  },
  {
   "cell_type": "code",
   "execution_count": 2,
   "id": "272c1d6b-6db6-4e69-8812-336ffb70cb2d",
   "metadata": {},
   "outputs": [
    {
     "name": "stdout",
     "output_type": "stream",
     "text": [
      "5.0\n",
      "finally block always execute either try block have error or not\n"
     ]
    }
   ],
   "source": [
    "try:\n",
    "    a,b = 10,2\n",
    "    c = a/b\n",
    "    print(c)\n",
    "except ZeroDivisionError as e:\n",
    "    print(e)\n",
    "finally:\n",
    "    print('finally block always execute either try block have error or not')"
   ]
  },
  {
   "cell_type": "code",
   "execution_count": 3,
   "id": "1243828d-9e08-4565-9d46-68f61c3fb9fe",
   "metadata": {},
   "outputs": [
    {
     "ename": "ValueError",
     "evalue": "string cant be change into intiger",
     "output_type": "error",
     "traceback": [
      "\u001b[0;31m---------------------------------------------------------------------------\u001b[0m",
      "\u001b[0;31mValueError\u001b[0m                                Traceback (most recent call last)",
      "Cell \u001b[0;32mIn[3], line 3\u001b[0m\n\u001b[1;32m      2\u001b[0m \u001b[38;5;28;01mtry\u001b[39;00m:\n\u001b[0;32m----> 3\u001b[0m     num \u001b[38;5;241m=\u001b[39m \u001b[38;5;28;43mint\u001b[39;49m\u001b[43m(\u001b[49m\u001b[43ms\u001b[49m\u001b[43m)\u001b[49m\n\u001b[1;32m      4\u001b[0m \u001b[38;5;28;01mexcept\u001b[39;00m \u001b[38;5;167;01mValueError\u001b[39;00m:\n",
      "\u001b[0;31mValueError\u001b[0m: invalid literal for int() with base 10: 'apple'",
      "\nDuring handling of the above exception, another exception occurred:\n",
      "\u001b[0;31mValueError\u001b[0m                                Traceback (most recent call last)",
      "Cell \u001b[0;32mIn[3], line 5\u001b[0m\n\u001b[1;32m      3\u001b[0m     num \u001b[38;5;241m=\u001b[39m \u001b[38;5;28mint\u001b[39m(s)\n\u001b[1;32m      4\u001b[0m \u001b[38;5;28;01mexcept\u001b[39;00m \u001b[38;5;167;01mValueError\u001b[39;00m:\n\u001b[0;32m----> 5\u001b[0m     \u001b[38;5;28;01mraise\u001b[39;00m \u001b[38;5;167;01mValueError\u001b[39;00m(\u001b[38;5;124m'\u001b[39m\u001b[38;5;124mstring cant be change into intiger\u001b[39m\u001b[38;5;124m'\u001b[39m)\n",
      "\u001b[0;31mValueError\u001b[0m: string cant be change into intiger"
     ]
    }
   ],
   "source": [
    "s = 'apple'\n",
    "try:\n",
    "    num = int(s)\n",
    "except ValueError:\n",
    "    raise ValueError('string cant be change into intiger')"
   ]
  },
  {
   "cell_type": "code",
   "execution_count": 11,
   "id": "38c75cf8-f8fa-4f1c-8781-f9f3b65e4c48",
   "metadata": {},
   "outputs": [
    {
     "name": "stdin",
     "output_type": "stream",
     "text": [
      "Enter your age 3\n"
     ]
    },
    {
     "name": "stdout",
     "output_type": "stream",
     "text": [
      "your age is : 3\n"
     ]
    }
   ],
   "source": [
    "try:\n",
    "    age = int(input('Enter your age'))\n",
    "    if age<0:\n",
    "        raise ValueError\n",
    "    print('your age is :',age)\n",
    "except ValueError :\n",
    "    print('Enter valid age')"
   ]
  },
  {
   "cell_type": "code",
   "execution_count": 14,
   "id": "acf66399-cb1b-4091-8037-3e930b1f1c4f",
   "metadata": {},
   "outputs": [
    {
     "name": "stdin",
     "output_type": "stream",
     "text": [
      "enter your age 3\n"
     ]
    },
    {
     "name": "stdout",
     "output_type": "stream",
     "text": [
      "age is valid 3\n"
     ]
    }
   ],
   "source": [
    "# q no 5\n",
    "\n",
    "# what are custome Exception in python ? why do not need Exception ? Explain\n",
    "# with an example\n",
    "\n",
    "# Ans :-\n",
    "# In python we can define custom exception by creating a new class that is\n",
    "# that is derive from the built in Exception class\n",
    "\n",
    "# why do be need custom exception\n",
    "\n",
    "# When we are developing a large python program it is good practise to place \n",
    "# all the user define exception that our program raise in a seprate file\n",
    "\n",
    "\n",
    "\n",
    "\n",
    "\n",
    "# craeat a custom exception class .use this class to handle an exception\n",
    "# q no 6\n",
    "class validatage (Exception):\n",
    "    \n",
    "    def __init__(self,msg):\n",
    "        self.msg = msg\n",
    "def validatage(age):\n",
    "    if age<0:\n",
    "        raise validatage\n",
    "    elif age>200:\n",
    "        raise validatage\n",
    "    else:\n",
    "        print('age is valid',age)\n",
    "try:\n",
    "    age = int(input('enter your age'))\n",
    "    validatage(age)\n",
    "except validatage as e:\n",
    "    print(e)\n"
   ]
  },
  {
   "cell_type": "code",
   "execution_count": null,
   "id": "42727d83-816c-4c16-b8fb-e6ca4a244e64",
   "metadata": {},
   "outputs": [],
   "source": []
  },
  {
   "cell_type": "code",
   "execution_count": 15,
   "id": "6d1080b4-8450-420c-8621-1f6b18731ee6",
   "metadata": {},
   "outputs": [
    {
     "name": "stdin",
     "output_type": "stream",
     "text": [
      "Enter your age 2\n"
     ]
    },
    {
     "name": "stdout",
     "output_type": "stream",
     "text": [
      "your age is : 2\n"
     ]
    }
   ],
   "source": [
    "#explain with example q no 5\n",
    "try:\n",
    "    age = int(input('Enter your age'))\n",
    "    if age<0:\n",
    "        raise ValueError\n",
    "    print('your age is :',age)\n",
    "except ValueError :\n",
    "    print('Enter valid age')"
   ]
  },
  {
   "cell_type": "code",
   "execution_count": 16,
   "id": "d6ee0851-5395-4764-81ac-86684be79cad",
   "metadata": {},
   "outputs": [
    {
     "data": {
      "text/plain": [
       "2"
      ]
     },
     "execution_count": 16,
     "metadata": {},
     "output_type": "execute_result"
    }
   ],
   "source": [
    "1+1"
   ]
  }
 ],
 "metadata": {
  "kernelspec": {
   "display_name": "Python 3 (ipykernel)",
   "language": "python",
   "name": "python3"
  },
  "language_info": {
   "codemirror_mode": {
    "name": "ipython",
    "version": 3
   },
   "file_extension": ".py",
   "mimetype": "text/x-python",
   "name": "python",
   "nbconvert_exporter": "python",
   "pygments_lexer": "ipython3",
   "version": "3.10.8"
  }
 },
 "nbformat": 4,
 "nbformat_minor": 5
}
